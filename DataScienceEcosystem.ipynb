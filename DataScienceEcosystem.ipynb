{
 "cells": [
  {
   "cell_type": "markdown",
   "id": "4a44a293",
   "metadata": {},
   "source": [
    "<h1> Data Science Tools and Ecosystem </h1>"
   ]
  },
  {
   "cell_type": "markdown",
   "id": "51e8f6c0",
   "metadata": {},
   "source": [
    "<p>\n",
    "    In this notebook, Data Science Tools and Ecosystem are summarized.\n",
    "</p>"
   ]
  },
  {
   "cell_type": "markdown",
   "id": "2f13055a",
   "metadata": {},
   "source": [
    "<b>Objectives:</b>\n",
    " \n",
    "<ul>\n",
    "    <li>List populer languages for Data Science</li>\n",
    "    <li>List populer Tools for Data Science</li>\n",
    "    <li>Reviewing Jupyter Notebook Features</li>\n",
    "</ul>"
   ]
  },
  {
   "cell_type": "markdown",
   "id": "08b05350",
   "metadata": {},
   "source": [
    "<h2>Author</h2>\n",
    "Saber"
   ]
  },
  {
   "cell_type": "markdown",
   "id": "f8f416e5",
   "metadata": {},
   "source": [
    "Some of the popular languages that Data Scientists use are:\n",
    "<ol>\n",
    "    <li>Python</li>\n",
    "    <li>R</li>\n",
    "    <li>SQL</li>\n",
    "</ol>"
   ]
  },
  {
   "cell_type": "markdown",
   "id": "239d9bf3",
   "metadata": {},
   "source": [
    "Some of the commonly used libraries used by Data Scientists include:\n",
    "<ol>\n",
    "    <li>Pandas</li>\n",
    "    <li>Numpy</li>\n",
    "    <li>SciKit Learn</li>\n",
    "</ol>"
   ]
  },
  {
   "cell_type": "markdown",
   "id": "f5f5f53a",
   "metadata": {},
   "source": [
    "| Number   | Data Science Tools |\n",
    "| -------- | ------- |\n",
    "| 1  | Anaconda    |\n",
    "| 2 | Apache     |\n",
    "| 3    | TensorFlow    |"
   ]
  },
  {
   "cell_type": "markdown",
   "id": "58d84155",
   "metadata": {},
   "source": [
    "Below are a few examples of evaluating arithmetic expressions in Python.\n",
    "\n",
    "1. **Addition**: `5 + 3` results in `8`\n",
    "2. **Subtraction**: `10 - 4` results in `6`\n",
    "3. **Multiplication**: `7 * 2` results in `14`"
   ]
  },
  {
   "cell_type": "code",
   "execution_count": 2,
   "id": "fc32385a",
   "metadata": {},
   "outputs": [
    {
     "data": {
      "text/plain": [
       "17"
      ]
     },
     "execution_count": 2,
     "metadata": {},
     "output_type": "execute_result"
    }
   ],
   "source": [
    "# This a simple arithmetic expression to mutiply then add integers\n",
    "(3*4)+5"
   ]
  },
  {
   "cell_type": "code",
   "execution_count": 4,
   "id": "3683a998",
   "metadata": {},
   "outputs": [
    {
     "data": {
      "text/plain": [
       "3.3333333333333335"
      ]
     },
     "execution_count": 4,
     "metadata": {},
     "output_type": "execute_result"
    }
   ],
   "source": [
    "# This will convert 200 minutes to hours by diving by 60\n",
    "200/60"
   ]
  },
  {
   "cell_type": "code",
   "execution_count": null,
   "id": "54c83fa7",
   "metadata": {},
   "outputs": [],
   "source": []
  }
 ],
 "metadata": {
  "kernelspec": {
   "display_name": "Python 3 (ipykernel)",
   "language": "python",
   "name": "python3"
  },
  "language_info": {
   "codemirror_mode": {
    "name": "ipython",
    "version": 3
   },
   "file_extension": ".py",
   "mimetype": "text/x-python",
   "name": "python",
   "nbconvert_exporter": "python",
   "pygments_lexer": "ipython3",
   "version": "3.10.9"
  }
 },
 "nbformat": 4,
 "nbformat_minor": 5
}
